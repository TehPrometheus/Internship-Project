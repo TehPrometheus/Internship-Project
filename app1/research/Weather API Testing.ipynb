{
 "cells": [
  {
   "cell_type": "markdown",
   "id": "4b1edf1b",
   "metadata": {},
   "source": [
    "# This notebook serves to understand the usage of the weather API provided by Atheesan"
   ]
  },
  {
   "cell_type": "markdown",
   "id": "5891e0ad",
   "metadata": {},
   "source": [
    "### Import Required Packages"
   ]
  },
  {
   "cell_type": "code",
   "execution_count": 8,
   "id": "92517b3b",
   "metadata": {},
   "outputs": [],
   "source": [
    "import openmeteo_requests\n",
    "import requests_cache\n",
    "import pandas as pd\n",
    "from retry_requests import retry\n",
    "import json\n",
    "\n",
    "def show_json(obj):\n",
    "    display(json.loads(obj.model_dump_json()))"
   ]
  },
  {
   "cell_type": "markdown",
   "id": "a10143e8",
   "metadata": {},
   "source": [
    "### Setup the Open-Meteo API client with cache and retry on error"
   ]
  },
  {
   "cell_type": "code",
   "execution_count": 5,
   "id": "700ebe86",
   "metadata": {},
   "outputs": [],
   "source": [
    "cache_session = requests_cache.CachedSession('.cache', expire_after = 3600)\n",
    "retry_session = retry(cache_session, retries = 5, backoff_factor = 0.2)\n",
    "openmeteo = openmeteo_requests.Client(session = retry_session)"
   ]
  },
  {
   "cell_type": "markdown",
   "id": "cb2999c5",
   "metadata": {},
   "source": [
    "### Define Required Weather Variables & Get API Weather Response"
   ]
  },
  {
   "cell_type": "code",
   "execution_count": 19,
   "id": "f6aaa8df",
   "metadata": {},
   "outputs": [],
   "source": [
    "url = \"https://api.open-meteo.com/v1/forecast\"\n",
    "params = {\n",
    "\t\"latitude\": 52.52,\n",
    "\t\"longitude\": 13.41,\n",
    "\t\"hourly\": \"temperature_2m\"\n",
    "}\n",
    "\n",
    "# The call below returns a python list, \n",
    "# each object (of type openmeteo_sdk.WeatherApiResponse.WeatherApiResponse) in the list \n",
    "# corresponds to weather information of a single location\n",
    "responses = openmeteo.weather_api(url, params=params)\n",
    "\n",
    "# this object contains all the weather information.\n",
    "# These are the member variables:\n",
    "# "
   ]
  },
  {
   "cell_type": "markdown",
   "id": "49baccb5",
   "metadata": {},
   "source": [
    "### Process first location since response is always an array"
   ]
  },
  {
   "cell_type": "code",
   "execution_count": 23,
   "id": "15ea0852",
   "metadata": {},
   "outputs": [
    {
     "name": "stdout",
     "output_type": "stream",
     "text": [
      "Coordinates 52.52000045776367°N 13.419998168945312°E\n",
      "Elevation 38.0 m asl\n",
      "Timezone None None\n",
      "Timezone difference to GMT+0 0 s\n",
      "                         date  temperature_2m\n",
      "0   2024-04-17 00:00:00+00:00          3.2455\n",
      "1   2024-04-17 01:00:00+00:00          2.6955\n",
      "2   2024-04-17 02:00:00+00:00          2.3455\n",
      "3   2024-04-17 03:00:00+00:00          2.2455\n",
      "4   2024-04-17 04:00:00+00:00          2.0455\n",
      "..                        ...             ...\n",
      "163 2024-04-23 19:00:00+00:00          5.3195\n",
      "164 2024-04-23 20:00:00+00:00          4.8195\n",
      "165 2024-04-23 21:00:00+00:00          4.3195\n",
      "166 2024-04-23 22:00:00+00:00          3.7695\n",
      "167 2024-04-23 23:00:00+00:00          3.2195\n",
      "\n",
      "[168 rows x 2 columns]\n"
     ]
    }
   ],
   "source": [
    "response = responses[0]\n",
    "print(f\"Coordinates {response.Latitude()}°N {response.Longitude()}°E\")\n",
    "print(f\"Elevation {response.Elevation()} m asl\")\n",
    "print(f\"Timezone {response.Timezone()} {response.TimezoneAbbreviation()}\")\n",
    "print(f\"Timezone difference to GMT+0 {response.UtcOffsetSeconds()} s\")\n",
    "\n",
    "# Process hourly data. The order of variables needs to be the same as requested.\n",
    "hourly = response.Hourly()\n",
    "hourly_temperature_2m = hourly.Variables(0).ValuesAsNumpy()\n",
    "\n",
    "hourly_data = {\"date\": pd.date_range(\n",
    "\tstart = pd.to_datetime(hourly.Time(), unit = \"s\", utc = True),\n",
    "\tend = pd.to_datetime(hourly.TimeEnd(), unit = \"s\", utc = True),\n",
    "\tfreq = pd.Timedelta(seconds = hourly.Interval()),\n",
    "\tinclusive = \"left\"\n",
    ")}\n",
    "hourly_data[\"temperature_2m\"] = hourly_temperature_2m\n",
    "\n",
    "hourly_dataframe = pd.DataFrame(data = hourly_data)\n",
    "print(hourly_dataframe)"
   ]
  }
 ],
 "metadata": {
  "kernelspec": {
   "display_name": "Python 3 (ipykernel)",
   "language": "python",
   "name": "python3"
  },
  "language_info": {
   "codemirror_mode": {
    "name": "ipython",
    "version": 3
   },
   "file_extension": ".py",
   "mimetype": "text/x-python",
   "name": "python",
   "nbconvert_exporter": "python",
   "pygments_lexer": "ipython3",
   "version": "3.11.5"
  }
 },
 "nbformat": 4,
 "nbformat_minor": 5
}
